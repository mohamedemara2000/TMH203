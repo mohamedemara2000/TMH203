{
 "cells": [
  {
   "cell_type": "markdown",
   "id": "949a2645",
   "metadata": {},
   "source": [
    "# Birinci denklem:\n",
    "###  Bu kodda, seri veya paralel bağlanmış iki direnç arasındaki eşdeğer direnç hesaplanır."
   ]
  },
  {
   "cell_type": "code",
   "execution_count": 1,
   "id": "5c509ac7",
   "metadata": {},
   "outputs": [
    {
     "name": "stdout",
     "output_type": "stream",
     "text": [
      "\n",
      "1: Dirençler paralel\n",
      "2: Dirençler seri  \n",
      "\n",
      "Yukaridan bir numarayi seciniz: 1\n",
      "Birinci direncin değerini ohm cinsinden giriniz: 1500\n",
      "Ikinci direncin değerini ohm cinsinden giriniz: 2000\n",
      "esdeger direnci= 0.8571428571428571 k_ohm\n"
     ]
    }
   ],
   "source": [
    "print('''\n",
    "1: Dirençler paralel\n",
    "2: Dirençler seri  \n",
    "''')\n",
    "a=int(input(\"Yukaridan bir numarayi seciniz: \"))\n",
    "if a==1: \n",
    "    R1=int(input(\"Birinci direncin değerini ohm cinsinden giriniz: \"))\n",
    "    R2=int(input(\"Ikinci direncin değerini ohm cinsinden giriniz: \"))\n",
    "    Res=R1*R2/(R1+R2) ## İki direnç paralel ise, bu yasayı kullanılır.\n",
    "    if Res>=100: \n",
    "        Res/=1000 ## Direnci kilo ohm cinsinden cikarmak icin\n",
    "        print(\"esdeger direnci=\",Res,\"k_ohm\")\n",
    "    else:\n",
    "        print(\"esdeger direnci=\",Res,\"ohm\")\n",
    "elif a==2:\n",
    "    R1=int(input(\"Birinci direncin değerini giriniz: \"))\n",
    "    R2=int(input(\"Ikinci direncin değerini giriniz: \"))\n",
    "    Res=R1+R2 ## İki direnç seri ise, bu yasayı kullanılır.\n",
    "    if Res>=100: \n",
    "        Res/=1000 \n",
    "        print(\"Esdeger direnci=\",Res,\"k_ohm\")\n",
    "    else:\n",
    "        print(\"Esdeger direnci=\",Res,\"ohm\")\n",
    "else:\n",
    "    print(\"Yanlis bir secim yaptiniz\")"
   ]
  },
  {
   "cell_type": "markdown",
   "id": "d86cfc42",
   "metadata": {},
   "source": [
    "# İkinci denklem:\n",
    "### rüzgar enerjisini elektrik enerjisine dönüştürmek için kullanılan bir denklemdir."
   ]
  },
  {
   "cell_type": "markdown",
   "id": "51f3f604",
   "metadata": {},
   "source": [
    "* Program rüzgar enerjisinden ne kadar enerji elde edildiğini ölçer.\n",
    "<br>\n",
    "* Denklem türbinlerin sayısına, yüksekliğine, alanına ve rüzgar hızına bağlıdır.\n",
    "<br>\n",
    "* Türbin alanı artırıldığında veya hava hızının daha yüksek olduğu yerler seçildiğinde daha fazla miktarda enerji açığa çıkar.\n",
    "<br>\n",
    "* MRI makinesi her test için büyük miktarda enerji kullanır. Testte yaklaşık 30 kw kullanılıyor. Bu kodda, hastanelerdeki MRI makinelerine gereken güç miktarını sağlamak için kaç türbin gerektiğini hesaplar. Cihazda günlük olarak gerçekleştirilen test sayısı girilir ve buna göre cihazın yılda kullandığı enerji miktarı hesaplanır.\n"
   ]
  },
  {
   "cell_type": "code",
   "execution_count": 40,
   "id": "e29de91c",
   "metadata": {},
   "outputs": [
    {
     "name": "stdout",
     "output_type": "stream",
     "text": [
      "Günlük ortalama hasta sayısını giriniz: 51\n",
      " \n",
      "Bazı türbin türleri:\n",
      "  1- Vindeby turbini\n",
      "  2- Middelgrunden turbini\n",
      "  3- Horns rev 2 turbini\n",
      "\n",
      "Yukaridan turbin tipi numarasini seciniz: 1\n",
      "Rüzgar hızını m/s olarak giriniz: 2.8\n",
      "Yılda cihazı kullanan ortalama hasta sayısı= 18615.Bu hasta sayısı 558.45 MWh enerji tüketiyor.\n",
      "Seçilen türbin tipi Vindeby turbinidir. Ortalama rüzgar hızına göre yılda 45.33 MWh üretilecektir.\n",
      "Bu türbin türünden gerekli gücü sağlamak için 13 türbin gerekecektir.\n",
      "\n"
     ]
    }
   ],
   "source": [
    "a=int(input(\"Günlük ortalama hasta sayısını giriniz: \"))\n",
    "x=print(''' \n",
    "Bazı türbin türleri:\n",
    "  1- Vindeby turbini\n",
    "  2- Middelgrunden turbini\n",
    "  3- Horns rev 2 turbini\n",
    "''')\n",
    "b=int(input(\"Yukaridan turbin tipi numarasini seciniz: \"))\n",
    "y=a*365 #Yıllık ortalama hasta sayısı\n",
    "z=30000*y/10**6 # MRI Cihazi tarafından yılda kullanılan ortalama enerji miktarı. 10^6:sonucu MW olarak almak icin.\n",
    "z=round(z,2)\n",
    "if b==1:\n",
    "    r=17.5\n",
    "    adi=\"Vindeby turbini\"\n",
    "elif b==2:\n",
    "    r=38\n",
    "    adi=\"Middelgrunden turbini\"\n",
    "elif b==3:\n",
    "    r=46.5\n",
    "    adi=\"Horns rev 2 turbini\"\n",
    "import math\n",
    "v=float(input(\"Rüzgar hızını m/s olarak giriniz: \"))\n",
    "A=math.pi*r**2  # A: m2 olarak rüzgarın kesit alanı \n",
    "rho=1.225  # rho: Havanın yoğunluğu bir sabittir,onun değeri 1.225 kg/m3.\n",
    "u=0.4   # Standart performans süresinin gerçek performans süresine oranı, genellikle yüzde olarak ifade edilir.\n",
    "power_o=0.5*rho*A*v**3*u*8760/10**6  # v: rüzgarın m/s cinsinden hızı\n",
    "power_o=round(power_o,2)\n",
    "l=z/power_o  # Güç miktarını sağlamak için kaç türbin gerektiğini bulmak için\n",
    "l=math.ceil(l)\n",
    "o=('''Yılda cihazı kullanan ortalama hasta sayısı= {}.Bu hasta sayısı {} MWh enerji tüketiyor.\n",
    "Seçilen türbin tipi {}dir. Ortalama rüzgar hızına göre yılda {} MWh üretilecektir.\n",
    "Bu türbin türünden gerekli gücü sağlamak için {} türbin gerekecektir.\n",
    "''')\n",
    "print(o.format(y,z,adi,power_o,l))"
   ]
  },
  {
   "cell_type": "markdown",
   "id": "a9dff677",
   "metadata": {},
   "source": [
    "# Üçüncü denklem:\n",
    "### İnsanlar için BMR ve TDEE'yi hesaplamak için Harris-Benedict denklemleri kullanıldı\n",
    "* Bu kodda, erkekler veya kadınlar için toplam günlük enerji harcaması ve bazal metabolizma hızı Harris-Benedict denklemleri kullanılarak hesaplanır.Denklem bir kişinin boyunu, kilosunu ve yaşını kullanır.\n",
    "* Toplam günlük enerji harcamasının sonucunu hesaplamak için bazal metabolizma hızı her kişinin aktivitesine göre değişen bir değişkenle çarpılır."
   ]
  },
  {
   "cell_type": "code",
   "execution_count": null,
   "id": "87903b58",
   "metadata": {},
   "outputs": [],
   "source": [
    "x=print('''\n",
    "Cinsiyet:\n",
    "  \n",
    "  1: Erkek\n",
    "  2: Kadin \n",
    "''')\n",
    "\n",
    "a=int(input(\"Yukaridan bir numarayi seciniz: \"))\n",
    "\n",
    "if a!=1 and a!=2:\n",
    "    print(\"Yanlis bir secim yaptiniz\")\n",
    "else:\n",
    "    weight=int(input(\"Ağırlığı kg cinsinden giriniz: \"))\n",
    "    height=int(input(\"yüksekliği cm cinsinden giriniz: \"))\n",
    "    age=int(input(\"yaşı giriniz: \"))\n",
    "    b=print('''\n",
    "Aktivite:\n",
    "  \n",
    "  1: Hareketsiz \n",
    "  2: Hafif Aktif \n",
    "  3: Orta Derecede Aktif\n",
    "  4: Çok Aktif \n",
    "  5: Son derece Aktif\n",
    "''')\n",
    "    b=int(input(\"Yukaridan bir numarayi seciniz: \"))\n",
    "    if b==1 or b==2 or b==3 or b==4 or b==5:\n",
    "        if a==1:\n",
    "            BMR=66.4730+13.7516*weight+5.0033*height-6.7550*age  # Erkekler için kalori sayısını hesaplamak için kullanılan Harris-Benedict denklemi (HBE).            \n",
    "            x=round(BMR,2)\n",
    "            if b==1:           # Toplam günlük enerji harcamasının sonucunu hesaplamak için:\n",
    "                BMR*=1.1       # Hareketsiz: BMR*1,1\n",
    "            elif b==2:         # Hafif Aktif: BMR*1.25\n",
    "                BMR*=1.25      # Orta Derecede Aktif: BMR*1.35\n",
    "            elif b==3:         # Çok Aktif: BMR*1.5\n",
    "                BMR*=1.35      # Son derece Aktif: BMR*1.7\n",
    "            elif b==4:\n",
    "                BMR*=1.5\n",
    "            elif b==5:\n",
    "                BMR*=1.7\n",
    "            BMR=round(BMR,2) \n",
    "        elif a==2:\n",
    "            BMR=655.0955+9.5634*weight+1.8496*height-4.6756*age  # Kadınlar için kalori sayısını hesaplamak için kullanılan Harris-Benedict denklemi (HBE).      \n",
    "            x=round(BMR,2) \n",
    "            if b==1:\n",
    "                BMR*=1.1\n",
    "            elif b==2:\n",
    "                BMR*=1.25\n",
    "            elif b==3:\n",
    "                BMR*=1.35\n",
    "            elif b==4:\n",
    "                BMR*=1.5\n",
    "            elif b==5:\n",
    "                BMR*=1.7\n",
    "            BMR=round(BMR,2)\n",
    "        z='''Vücudunuzun bazal metabolizma hızı(BMR)= {} kalori.\n",
    "Toplam günlük enerji harcaması = {} kalori, bu kilonuzu korumak istiyorsanız yemeniz gereken önerilen kalori miktarıdır.\n",
    "Kilo vermek istiyorsanız günde {} kalori tüketmeniz önerilir.\n",
    "Kilo almak istiyorsanız günde {} kalori tüketmeniz önerilir.'''\n",
    "        print(z.format(x,BMR,BMR-700,BMR+700))\n",
    "    else:\n",
    "        print('Vücudunuzun bazal metabolizma hızı(BMR)= ',BMR,' kalori.')\n",
    "        print('Aktivite seçerken yanlış bir seçim yaptınız')"
   ]
  }
 ],
 "metadata": {
  "kernelspec": {
   "display_name": "Python 3 (ipykernel)",
   "language": "python",
   "name": "python3"
  },
  "language_info": {
   "codemirror_mode": {
    "name": "ipython",
    "version": 3
   },
   "file_extension": ".py",
   "mimetype": "text/x-python",
   "name": "python",
   "nbconvert_exporter": "python",
   "pygments_lexer": "ipython3",
   "version": "3.9.12"
  }
 },
 "nbformat": 4,
 "nbformat_minor": 5
}
